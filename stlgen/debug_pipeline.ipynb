{
  "cells": [
    {
      "cell_type": "markdown",
      "metadata": {},
      "source": [
        "# Отладка Пайплайна Генерации STL\n",
        "\n",
        "Этот notebook предназначен для пошаговой отладки всех этапов генерации STL модели.\n"
      ]
    },
    {
      "cell_type": "code",
      "execution_count": 1,
      "metadata": {},
      "outputs": [
        {
          "name": "stdout",
          "output_type": "stream",
          "text": [
            "✓ Все модули импортированы успешно\n"
          ]
        }
      ],
      "source": [
        "import numpy as np\n",
        "import sys\n",
        "import os\n",
        "\n",
        "# Добавляем текущую директорию в путь для импортов\n",
        "current_dir = os.getcwd()\n",
        "sys.path.insert(0, current_dir)\n",
        "\n",
        "# Импорты модулей\n",
        "from geometry.config import GeometryConfig\n",
        "from geometry.coordinate_system import CoordinateSystem\n",
        "from geometry.beveled_prism import BeveledPrism\n",
        "from geometry.prism_layer import PrismLayer\n",
        "from geometry.convex_solver import ConvexHullSolver\n",
        "from transforms.cylindrical import CylindricalTransform\n",
        "from export.stl_exporter import STLExporter\n",
        "from layer_generator import LayerGenerator\n",
        "\n",
        "print(\"✓ Все модули импортированы успешно\")\n"
      ]
    },
    {
      "cell_type": "markdown",
      "metadata": {},
      "source": [
        "## Этап 1: Создание конфигурации\n",
        "\n",
        "Проверяем, что параметры настроены правильно.\n"
      ]
    },
    {
      "cell_type": "code",
      "execution_count": 2,
      "metadata": {},
      "outputs": [
        {
          "name": "stdout",
          "output_type": "stream",
          "text": [
            "Параметры:\n",
            "  Radius: 69.333\n",
            "  Height: 100.000\n",
            "  Bevel Angle: 30.0°\n",
            "\n",
            "Конфигурация: GeometryConfig(radius=69.33333333333333, height=100.0, bev_angle=0.524, size_trick=1.1)\n"
          ]
        }
      ],
      "source": [
        "# Параметры (из legacy кода)\n",
        "PI = np.pi\n",
        "RADIUS = 4 * (1e2 * 1300 / 7500)\n",
        "HEIGHT = 1 * 1e2\n",
        "BEV_ANGLE = np.radians(30)\n",
        "\n",
        "print(f\"Параметры:\")\n",
        "print(f\"  Radius: {RADIUS:.3f}\")\n",
        "print(f\"  Height: {HEIGHT:.3f}\")\n",
        "print(f\"  Bevel Angle: {np.degrees(BEV_ANGLE):.1f}°\")\n",
        "\n",
        "# Создаем конфигурацию\n",
        "config = GeometryConfig(\n",
        "    radius=RADIUS,\n",
        "    height=HEIGHT,\n",
        "    bev_angle=BEV_ANGLE,\n",
        "    size_trick=1.1\n",
        ")\n",
        "\n",
        "print(f\"\\nКонфигурация: {config}\")\n"
      ]
    },
    {
      "cell_type": "markdown",
      "metadata": {},
      "source": [
        "## Этап 2: Тестирование одной призмы\n",
        "\n",
        "Создаем и проверяем геометрию одной призмы.\n"
      ]
    },
    {
      "cell_type": "code",
      "execution_count": 3,
      "metadata": {},
      "outputs": [
        {
          "name": "stdout",
          "output_type": "stream",
          "text": [
            "Призма создана: BeveledPrism(config=GeometryConfig(radius=69.33333333333333, height=100.0, bev_angle=0.524, size_trick=1.1), center=[0. 0. 0.], height_dir=[0. 0. 1.], radial_dir=[1. 0. 0.])\n",
            "\n",
            "Начальные точки (begin_points): 8\n",
            "[[ 0.00000000e+00  0.00000000e+00  5.00000000e+01]\n",
            " [ 6.00444280e+01  0.00000000e+00  0.00000000e+00]\n",
            " [ 3.00222140e+01  5.20000000e+01  0.00000000e+00]\n",
            " [-3.00222140e+01  5.20000000e+01  0.00000000e+00]\n",
            " [-6.00444280e+01  7.35332166e-15  0.00000000e+00]\n",
            " [-3.00222140e+01 -5.20000000e+01  0.00000000e+00]\n",
            " [ 3.00222140e+01 -5.20000000e+01  0.00000000e+00]\n",
            " [ 0.00000000e+00  0.00000000e+00 -5.00000000e+01]]\n",
            "\n",
            "Конечные точки (end_points): 8\n",
            "[[ 0.00000000e+00  0.00000000e+00  5.50000000e+01]\n",
            " [ 6.60488708e+01  0.00000000e+00  0.00000000e+00]\n",
            " [ 3.30244354e+01  5.72000000e+01 -3.00222140e+00]\n",
            " [-3.30244354e+01  5.72000000e+01  3.00222140e+00]\n",
            " [-6.60488708e+01  8.08865382e-15  0.00000000e+00]\n",
            " [-3.30244354e+01 -5.72000000e+01 -3.00222140e+00]\n",
            " [ 3.30244354e+01 -5.72000000e+01  3.00222140e+00]\n",
            " [ 0.00000000e+00  0.00000000e+00 -5.50000000e+01]]\n",
            "\n",
            "Вектора плоскостей: 8\n"
          ]
        }
      ],
      "source": [
        "# Создаем одну тестовую призму\n",
        "center = np.array([0, 0, 0])\n",
        "direction_height = np.array([0, 0, 1])\n",
        "direction_radial = np.array([1, 0, 0])\n",
        "\n",
        "prism = BeveledPrism(\n",
        "    config=config,\n",
        "    center=center,\n",
        "    direction_height=direction_height,\n",
        "    direction_radial=direction_radial\n",
        ")\n",
        "\n",
        "print(f\"Призма создана: {prism}\")\n",
        "print(f\"\\nНачальные точки (begin_points): {len(prism.begin_points)}\")\n",
        "print(prism.begin_points)\n",
        "print(f\"\\nКонечные точки (end_points): {len(prism.end_points)}\")\n",
        "print(prism.end_points)\n",
        "print(f\"\\nВектора плоскостей: {len(prism.plane_vectors)}\")\n"
      ]
    },
    {
      "cell_type": "markdown",
      "metadata": {},
      "source": [
        "## Этап 3: Вычисление точек пересечения\n",
        "\n",
        "Проверяем, находятся ли точки пересечения плоскостей.\n"
      ]
    },
    {
      "cell_type": "code",
      "execution_count": 4,
      "metadata": {},
      "outputs": [
        {
          "name": "stdout",
          "output_type": "stream",
          "text": [
            "Найдено точек пересечения: 12\n",
            "\n",
            "Пример точек пересечения:\n",
            "[[ 60.044428    63.53418013  50.        ]\n",
            " [ 50.          69.33333333  50.        ]\n",
            " [-60.044428     5.79915321  50.        ]\n",
            " [-60.044428   -63.53418013  50.        ]\n",
            " [-50.         -69.33333333  50.        ]]\n"
          ]
        }
      ],
      "source": [
        "# Создаем solver\n",
        "solver = ConvexHullSolver()\n",
        "\n",
        "# Условие соединения (из legacy кода)\n",
        "def connect_func(point, center=np.array([0,0,0]), axes_vec=np.array([0,0,1])):\n",
        "    point_rel = point - center\n",
        "    axes_len = np.linalg.norm(axes_vec)\n",
        "    axes_ord = axes_vec / axes_len\n",
        "    rad_dist = np.sqrt(point_rel[0]**2 + point_rel[1]**2 + point_rel[2]**2 - (np.dot(point_rel, axes_ord)**2))\n",
        "    \n",
        "    kostyl_border = 1\n",
        "    if point[2]**2 > HEIGHT**2 or rad_dist > (RADIUS + 0.5 * HEIGHT / np.tan(BEV_ANGLE)) * kostyl_border:\n",
        "        return True\n",
        "    return True\n",
        "\n",
        "# Находим точки пересечения\n",
        "intersection_points = solver.find_plane_intersections(\n",
        "    vectors=prism.plane_vectors,\n",
        "    points=prism.begin_points,\n",
        "    connect_condition=connect_func\n",
        ")\n",
        "\n",
        "print(f\"Найдено точек пересечения: {len(intersection_points)}\")\n",
        "if len(intersection_points) > 0:\n",
        "    print(f\"\\nПример точек пересечения:\")\n",
        "    print(intersection_points[:5])\n",
        "else:\n",
        "    print(\"\\n⚠️ ПРОБЛЕМА: Не найдено ни одной точки пересечения!\")\n"
      ]
    },
    {
      "cell_type": "markdown",
      "metadata": {},
      "source": [
        "## Этап 4: Построение Convex Hull\n",
        "\n",
        "Строим convex hull из точек пересечения.\n"
      ]
    },
    {
      "cell_type": "code",
      "execution_count": 5,
      "metadata": {},
      "outputs": [
        {
          "name": "stdout",
          "output_type": "stream",
          "text": [
            "Построено граней: 20\n",
            "\n",
            "Пример грани (треугольник):\n",
            "[array([-50.        , -69.33333333,  50.        ]), array([-60.044428  ,  -5.79915321, -50.        ]), array([ 50.        , -69.33333333, -50.        ])]\n"
          ]
        }
      ],
      "source": [
        "# Строим convex hull\n",
        "if len(intersection_points) >= 4:\n",
        "    faces = solver.build_convex_hull(intersection_points)\n",
        "    print(f\"Построено граней: {len(faces)}\")\n",
        "    \n",
        "    if len(faces) > 0:\n",
        "        print(f\"\\nПример грани (треугольник):\")\n",
        "        print(faces[0])\n",
        "    else:\n",
        "        print(\"\\n⚠️ ПРОБЛЕМА: Convex hull не построен!\")\n",
        "else:\n",
        "    print(f\"\\n⚠️ ПРОБЛЕМА: Недостаточно точек для convex hull (нужно минимум 4, есть {len(intersection_points)})\")\n",
        "    faces = []\n"
      ]
    },
    {
      "cell_type": "markdown",
      "metadata": {},
      "source": [
        "## Этап 5: Полный тест через LayerGenerator ->OK\n",
        "\n",
        "Тестируем весь пайплайн с маленьким слоем.\n"
      ]
    },
    {
      "cell_type": "code",
      "execution_count": 6,
      "metadata": {},
      "outputs": [
        {
          "name": "stdout",
          "output_type": "stream",
          "text": [
            "=== ПОЛНЫЙ ТЕСТ ЧЕРЕЗ LayerGenerator ===\n",
            "\n",
            "1. Генерация слоя...\n",
            "   ✓ Создано призм: 6\n",
            "\n",
            "2. Вычисление граней...\n",
            "   ✓ Всего граней: 120\n",
            "\n",
            "3. Экспорт в STL...\n",
            "ASCII-STL written: test_debug.stl\n",
            "  • Unique vertices: 72\n",
            "  • Triangles: 120\n",
            "   ✓ Экспорт завершен: test_debug.stl\n"
          ]
        }
      ],
      "source": [
        "# Тестируем полный пайплайн через LayerGenerator\n",
        "print(\"=== ПОЛНЫЙ ТЕСТ ЧЕРЕЗ LayerGenerator ===\")\n",
        "\n",
        "generator = LayerGenerator(config)\n",
        "\n",
        "# Генерируем маленький слой\n",
        "print(\"\\n1. Генерация слоя...\")\n",
        "layer = generator.generate_layer(x_num=2, y_num=2)\n",
        "print(f\"   ✓ Создано призм: {len(layer)}\")\n",
        "\n",
        "# Вычисляем грани\n",
        "print(\"\\n2. Вычисление граней...\")\n",
        "faces = generator.compute_faces()\n",
        "total_faces = sum(len(f) for f in faces)\n",
        "print(f\"   ✓ Всего граней: {total_faces}\")\n",
        "\n",
        "# Экспортируем\n",
        "if total_faces > 0:\n",
        "    print(\"\\n3. Экспорт в STL...\")\n",
        "    generator.export_stl(\"test_debug.stl\", format=\"ascii\")\n",
        "    print(\"   ✓ Экспорт завершен: test_debug.stl\")\n",
        "else:\n",
        "    print(\"\\n⚠️ Нет граней для экспорта!\")\n"
      ]
    },
    {
      "cell_type": "markdown",
      "metadata": {},
      "source": [
        "## Этап 6: Тест с большим слоем (как в main.py)\n",
        "\n",
        "Тестируем слой 11x11, как в main.py.\n"
      ]
    },
    {
      "cell_type": "code",
      "execution_count": 7,
      "metadata": {},
      "outputs": [
        {
          "name": "stdout",
          "output_type": "stream",
          "text": [
            "=== ТЕСТ С БОЛЬШИМ СЛОЕМ 11x11 ===\n",
            "\n",
            "1. Генерация слоя 11x11...\n",
            "   ✓ Создано призм: 142\n",
            "\n",
            "2. Вычисление граней...\n",
            "   ✓ Всего граней: 2840\n",
            "\n",
            "3. Экспорт в STL...\n",
            "ASCII-STL written: test_large.stl\n",
            "  • Unique vertices: 1704\n",
            "  • Triangles: 2840\n",
            "   ✓ Экспорт завершен: test_large.stl\n"
          ]
        }
      ],
      "source": [
        "# Тест с большим слоем (как в main.py)\n",
        "print(\"=== ТЕСТ С БОЛЬШИМ СЛОЕМ 11x11 ===\")\n",
        "\n",
        "# Создаем новый генератор\n",
        "generator_large = LayerGenerator(config, bend_radius=30 * 1e6)\n",
        "\n",
        "# Генерируем большой слой\n",
        "print(\"\\n1. Генерация слоя 11x11...\")\n",
        "layer_large = generator_large.generate_layer(x_num=11, y_num=11)\n",
        "print(f\"   ✓ Создано призм: {len(layer_large)}\")\n",
        "\n",
        "# Вычисляем грани\n",
        "print(\"\\n2. Вычисление граней...\")\n",
        "faces_large = generator_large.compute_faces()\n",
        "total_faces_large = sum(len(f) for f in faces_large)\n",
        "print(f\"   ✓ Всего граней: {total_faces_large}\")\n",
        "\n",
        "# Экспортируем\n",
        "if total_faces_large > 0:\n",
        "    print(\"\\n3. Экспорт в STL...\")\n",
        "    generator_large.export_stl(\"test_large.stl\", format=\"ascii\")\n",
        "    print(\"   ✓ Экспорт завершен: test_large.stl\")\n",
        "else:\n",
        "    print(\"\\n⚠️ Нет граней для экспорта!\")\n"
      ]
    },
    {
      "cell_type": "markdown",
      "metadata": {},
      "source": [
        "## Этап 7: Тест generate_complete_layer (как в main.py)\n",
        "\n",
        "Тестируем метод, который используется в main.py.\n"
      ]
    },
    {
      "cell_type": "code",
      "execution_count": null,
      "metadata": {},
      "outputs": [],
      "source": [
        "# Тест generate_complete_layer (как в main.py)\n",
        "print(\"=== ТЕСТ generate_complete_layer ===\")\n",
        "\n",
        "# Создаем генератор точно как в main.py\n",
        "generator_complete = LayerGenerator(config, bend_radius=30 * 1e6)\n",
        "\n",
        "# Используем тот же метод, что и в main.py\n",
        "print(\"\\n1. Вызов generate_complete_layer...\")\n",
        "layer_complete = generator_complete.generate_complete_layer(\n",
        "    x_num=11,\n",
        "    y_num=11,\n",
        "    bend_radius=30 * 1e6,\n",
        "    output_filename=\"test_complete.stl\",\n",
        "    solid_name=\"bf8_sls\",\n",
        "    format=\"ascii\"\n",
        ")\n",
        "\n",
        "print(f\"   ✓ Создано призм: {len(layer_complete)}\")\n",
        "print(f\"   ✓ Граней: {sum(len(f) for f in generator_complete.faces) if generator_complete.faces else 0}\")\n",
        "\n",
        "# Проверяем, что файл создался\n",
        "import os\n",
        "if os.path.exists(\"test_complete.stl\"):\n",
        "    size = os.path.getsize(\"test_complete.stl\")\n",
        "    print(f\"   ✓ Файл создан: test_complete.stl (размер: {size} байт)\")\n",
        "else:\n",
        "    print(\"   ⚠️ Файл не создан!\")\n"
      ]
    },
    {
      "cell_type": "markdown",
      "metadata": {},
      "source": [
        "## Этап 8: Детальная диагностика одной призмы\n",
        "\n",
        "Проверяем, что именно происходит с геометрией одной призмы.\n"
      ]
    },
    {
      "cell_type": "code",
      "execution_count": null,
      "metadata": {},
      "outputs": [],
      "source": [
        "# Детальная диагностика одной призмы\n",
        "print(\"=== ДЕТАЛЬНАЯ ДИАГНОСТИКА ОДНОЙ ПРИЗМЫ ===\")\n",
        "\n",
        "# Создаем одну призму\n",
        "center = np.array([0, 0, 0])\n",
        "direction_height = np.array([0, 0, 1])\n",
        "direction_radial = np.array([1, 0, 0])\n",
        "\n",
        "prism = BeveledPrism(\n",
        "    config=config,\n",
        "    center=center,\n",
        "    direction_height=direction_height,\n",
        "    direction_radial=direction_radial\n",
        ")\n",
        "\n",
        "print(f\"\\n1. Геометрия призмы:\")\n",
        "print(f\"   Center: {prism.center}\")\n",
        "print(f\"   Config: radius={prism.config.radius}, height={prism.config.height}\")\n",
        "\n",
        "print(f\"\\n2. Begin points ({len(prism.begin_points)}):\")\n",
        "for i, pt in enumerate(prism.begin_points):\n",
        "    print(f\"   [{i}]: {pt}\")\n",
        "\n",
        "print(f\"\\n3. End points ({len(prism.end_points)}):\")\n",
        "for i, pt in enumerate(prism.end_points):\n",
        "    print(f\"   [{i}]: {pt}\")\n",
        "\n",
        "print(f\"\\n4. Plane vectors ({len(prism.plane_vectors)}):\")\n",
        "for i, vec in enumerate(prism.plane_vectors):\n",
        "    norm = np.linalg.norm(vec)\n",
        "    print(f\"   [{i}]: {vec} (norm={norm:.3f})\")\n",
        "\n",
        "# Проверяем, все ли векторы ненулевые\n",
        "zero_vectors = sum(1 for vec in prism.plane_vectors if np.linalg.norm(vec) < 1e-10)\n",
        "print(f\"\\n5. Нулевых векторов: {zero_vectors}\")\n",
        "\n",
        "# Тестируем вычисление пересечений вручную\n",
        "print(f\"\\n6. Тест вычисления пересечений:\")\n",
        "test_intersections = solver.find_plane_intersections(\n",
        "    vectors=prism.plane_vectors,\n",
        "    points=prism.begin_points,\n",
        "    connect_condition=lambda p: True  # Без фильтрации\n",
        ")\n",
        "print(f\"   Найдено пересечений (без фильтра): {len(test_intersections)}\")\n",
        "\n",
        "if len(test_intersections) > 0:\n",
        "    print(f\"   Примеры точек:\")\n",
        "    for i, pt in enumerate(test_intersections[:5]):\n",
        "        print(f\"     [{i}]: {pt}\")\n",
        "else:\n",
        "    print(\"   ⚠️ НЕТ ПЕРЕСЕЧЕНИЙ!\")\n"
      ]
    },
    {
      "cell_type": "markdown",
      "metadata": {},
      "source": [
        "## Этап 9: Тест влияния size_trick\n",
        "\n",
        "Проверяем, как size_trick влияет на генерацию STL.\n"
      ]
    },
    {
      "cell_type": "code",
      "execution_count": null,
      "metadata": {},
      "outputs": [],
      "source": [
        "# Тест влияния size_trick на генерацию STL\n",
        "print(\"=== ТЕСТ ВЛИЯНИЯ size_trick ===\")\n",
        "\n",
        "# Тестируем разные значения size_trick\n",
        "test_values = [0.5, 0.8, 1.0, 1.01, 1.1, 1.21, 1.5, 2.0]\n",
        "\n",
        "for size_trick in test_values:\n",
        "    print(f\"\\n--- Тест с size_trick = {size_trick} ---\")\n",
        "    \n",
        "    # Создаем конфигурацию с новым size_trick\n",
        "    test_config = GeometryConfig(\n",
        "        radius=RADIUS,\n",
        "        height=HEIGHT,\n",
        "        bev_angle=BEV_ANGLE,\n",
        "        size_trick=size_trick\n",
        "    )\n",
        "    \n",
        "    # Создаем генератор\n",
        "    generator = LayerGenerator(test_config)\n",
        "    \n",
        "    # Генерируем маленький слой\n",
        "    layer = generator.generate_layer(x_num=2, y_num=2)\n",
        "    \n",
        "    # Вычисляем грани\n",
        "    faces = generator.compute_faces()\n",
        "    total_faces = sum(len(f) for f in faces)\n",
        "    \n",
        "    print(f\"   Призм: {len(layer)}, Граней: {total_faces}\")\n",
        "    \n",
        "    if total_faces > 0:\n",
        "        print(f\"   ✅ УСПЕХ!\")\n",
        "        \n",
        "        # Проверяем геометрию первой призмы\n",
        "        first_prism = layer.prisms[0]\n",
        "        print(f\"   Begin points: {len(first_prism.begin_points)}\")\n",
        "        print(f\"   End points: {len(first_prism.end_points)}\")\n",
        "        print(f\"   Plane vectors: {len(first_prism.plane_vectors)}\")\n",
        "        \n",
        "        # Проверяем, что векторы ненулевые\n",
        "        zero_vectors = sum(1 for vec in first_prism.plane_vectors if np.linalg.norm(vec) < 1e-10)\n",
        "        print(f\"   Нулевых векторов: {zero_vectors}\")\n",
        "        \n",
        "        if zero_vectors > 0:\n",
        "            print(f\"   ⚠️ Есть нулевые векторы!\")\n",
        "    else:\n",
        "        print(f\"   ❌ Не работает\")\n"
      ]
    },
    {
      "cell_type": "markdown",
      "metadata": {},
      "source": [
        "# Отладка STL Layer Generator Pipeline\n",
        "\n",
        "Этот ноутбук предназначен для пошаговой отладки всего пайплайна генерации STL слоев.\n"
      ]
    }
  ],
  "metadata": {
    "kernelspec": {
      "display_name": "my_env_FreeCAD",
      "language": "python",
      "name": "python3"
    },
    "language_info": {
      "codemirror_mode": {
        "name": "ipython",
        "version": 3
      },
      "file_extension": ".py",
      "mimetype": "text/x-python",
      "name": "python",
      "nbconvert_exporter": "python",
      "pygments_lexer": "ipython3",
      "version": "3.12.3"
    }
  },
  "nbformat": 4,
  "nbformat_minor": 2
}
